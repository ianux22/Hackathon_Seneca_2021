{
 "cells": [
  {
   "cell_type": "markdown",
   "metadata": {},
   "source": [
    "# Ages X Disorder"
   ]
  },
  {
   "cell_type": "code",
   "execution_count": 1,
   "metadata": {},
   "outputs": [],
   "source": [
    "import pandas as pd\n",
    "\n",
    "Age_avg_onset = pd.read_excel('.\\Ages_Disorder\\AverageAgeOfOnset.xlsx', index_col=None)\n",
    "Disorder_Age = pd.read_excel('.\\Ages_Disorder\\Disorder_age.xlsx', index_col=None)"
   ]
  },
  {
   "cell_type": "code",
   "execution_count": 2,
   "metadata": {},
   "outputs": [
    {
     "data": {
      "text/plain": [
       "Index(['Average_age_onset_id', 'Disorder_id', 'Average_age_onset',\n",
       "       'Onset_class_id'],\n",
       "      dtype='object')"
      ]
     },
     "execution_count": 2,
     "metadata": {},
     "output_type": "execute_result"
    }
   ],
   "source": [
    "Age_avg_onset.columns"
   ]
  },
  {
   "cell_type": "code",
   "execution_count": 3,
   "metadata": {},
   "outputs": [
    {
     "data": {
      "text/plain": [
       "(6577, 11)"
      ]
     },
     "execution_count": 3,
     "metadata": {},
     "output_type": "execute_result"
    }
   ],
   "source": [
    "Disorder_Age.shape"
   ]
  },
  {
   "cell_type": "code",
   "execution_count": 4,
   "metadata": {},
   "outputs": [
    {
     "data": {
      "text/plain": [
       "Index(['Disorder_id', 'Disorder_name', 'Disorder_id_2', 'Disorder_type',\n",
       "       'Disorder_type_id', 'Disorder_group', 'Disorder_group_id',\n",
       "       'Average_age_death', 'Average_age_death_id', 'Inheritance_type',\n",
       "       'Inheritance_type_id'],\n",
       "      dtype='object')"
      ]
     },
     "execution_count": 4,
     "metadata": {},
     "output_type": "execute_result"
    }
   ],
   "source": [
    "Disorder_Age.columns"
   ]
  },
  {
   "cell_type": "code",
   "execution_count": 5,
   "metadata": {},
   "outputs": [
    {
     "data": {
      "text/plain": [
       "Neonatal             2855\n",
       "Infancy              2305\n",
       "Childhood            1450\n",
       "Adult                1267\n",
       "All ages              832\n",
       "Adolescent            667\n",
       "Antenatal             621\n",
       "Elderly               245\n",
       "No data available      40\n",
       "Name: Average_age_onset, dtype: int64"
      ]
     },
     "execution_count": 5,
     "metadata": {},
     "output_type": "execute_result"
    }
   ],
   "source": [
    "Age_avg_onset.Average_age_onset.value_counts()"
   ]
  },
  {
   "cell_type": "code",
   "execution_count": 6,
   "metadata": {},
   "outputs": [
    {
     "data": {
      "text/plain": [
       "No data available         1207\n",
       "normal life expectancy    1026\n",
       "any age                    447\n",
       "adult                      270\n",
       "early childhood            235\n",
       "infantile                  209\n",
       "adolescent                  97\n",
       "elderly                     64\n",
       "embryofetal                 21\n",
       "late childhood              20\n",
       "young Adult                 18\n",
       "stillbirth                  13\n",
       "Not yet documented           4\n",
       "Name: Average_age_death, dtype: int64"
      ]
     },
     "execution_count": 6,
     "metadata": {},
     "output_type": "execute_result"
    }
   ],
   "source": [
    "Disorder_Age.Average_age_death.value_counts()"
   ]
  },
  {
   "cell_type": "code",
   "execution_count": 7,
   "metadata": {},
   "outputs": [
    {
     "data": {
      "text/plain": [
       "Autosomal recessive          1890\n",
       "Autosomal dominant           1660\n",
       "Not applicable                981\n",
       "Unknown                       252\n",
       "X-linked recessive            252\n",
       "Multigenic/multifactorial     171\n",
       "X-linked dominant              59\n",
       "Mitochondrial inheritance      20\n",
       "No data available              17\n",
       "Semi-dominant                   4\n",
       "Y-linked                        1\n",
       "Name: Inheritance_type, dtype: int64"
      ]
     },
     "execution_count": 7,
     "metadata": {},
     "output_type": "execute_result"
    }
   ],
   "source": [
    "Disorder_Age.Inheritance_type.value_counts()"
   ]
  },
  {
   "cell_type": "markdown",
   "metadata": {},
   "source": [
    "A disease should have just a type of Inheritance_type. In fact look below..."
   ]
  },
  {
   "cell_type": "code",
   "execution_count": 8,
   "metadata": {},
   "outputs": [
    {
     "data": {
      "text/html": [
       "<div>\n",
       "<style scoped>\n",
       "    .dataframe tbody tr th:only-of-type {\n",
       "        vertical-align: middle;\n",
       "    }\n",
       "\n",
       "    .dataframe tbody tr th {\n",
       "        vertical-align: top;\n",
       "    }\n",
       "\n",
       "    .dataframe thead th {\n",
       "        text-align: right;\n",
       "    }\n",
       "</style>\n",
       "<table border=\"1\" class=\"dataframe\">\n",
       "  <thead>\n",
       "    <tr style=\"text-align: right;\">\n",
       "      <th></th>\n",
       "      <th>Disorder_id</th>\n",
       "      <th>Inheritance_type</th>\n",
       "      <th>Time</th>\n",
       "    </tr>\n",
       "  </thead>\n",
       "  <tbody>\n",
       "    <tr>\n",
       "      <th>0</th>\n",
       "      <td>1</td>\n",
       "      <td>Autosomal recessive</td>\n",
       "      <td>1</td>\n",
       "    </tr>\n",
       "    <tr>\n",
       "      <th>1</th>\n",
       "      <td>2</td>\n",
       "      <td>Autosomal dominant</td>\n",
       "      <td>1</td>\n",
       "    </tr>\n",
       "    <tr>\n",
       "      <th>2</th>\n",
       "      <td>4</td>\n",
       "      <td>Autosomal recessive</td>\n",
       "      <td>1</td>\n",
       "    </tr>\n",
       "    <tr>\n",
       "      <th>3</th>\n",
       "      <td>7</td>\n",
       "      <td>Autosomal recessive</td>\n",
       "      <td>1</td>\n",
       "    </tr>\n",
       "    <tr>\n",
       "      <th>4</th>\n",
       "      <td>9</td>\n",
       "      <td>Autosomal recessive</td>\n",
       "      <td>1</td>\n",
       "    </tr>\n",
       "    <tr>\n",
       "      <th>...</th>\n",
       "      <td>...</td>\n",
       "      <td>...</td>\n",
       "      <td>...</td>\n",
       "    </tr>\n",
       "    <tr>\n",
       "      <th>5302</th>\n",
       "      <td>6571</td>\n",
       "      <td>Autosomal dominant</td>\n",
       "      <td>1</td>\n",
       "    </tr>\n",
       "    <tr>\n",
       "      <th>5303</th>\n",
       "      <td>6572</td>\n",
       "      <td>Autosomal dominant</td>\n",
       "      <td>1</td>\n",
       "    </tr>\n",
       "    <tr>\n",
       "      <th>5304</th>\n",
       "      <td>6573</td>\n",
       "      <td>Autosomal dominant</td>\n",
       "      <td>1</td>\n",
       "    </tr>\n",
       "    <tr>\n",
       "      <th>5305</th>\n",
       "      <td>6575</td>\n",
       "      <td>Multigenic/multifactorial</td>\n",
       "      <td>1</td>\n",
       "    </tr>\n",
       "    <tr>\n",
       "      <th>5306</th>\n",
       "      <td>6576</td>\n",
       "      <td>Multigenic/multifactorial</td>\n",
       "      <td>1</td>\n",
       "    </tr>\n",
       "  </tbody>\n",
       "</table>\n",
       "<p>5307 rows × 3 columns</p>\n",
       "</div>"
      ],
      "text/plain": [
       "      Disorder_id           Inheritance_type  Time\n",
       "0               1        Autosomal recessive     1\n",
       "1               2         Autosomal dominant     1\n",
       "2               4        Autosomal recessive     1\n",
       "3               7        Autosomal recessive     1\n",
       "4               9        Autosomal recessive     1\n",
       "...           ...                        ...   ...\n",
       "5302         6571         Autosomal dominant     1\n",
       "5303         6572         Autosomal dominant     1\n",
       "5304         6573         Autosomal dominant     1\n",
       "5305         6575  Multigenic/multifactorial     1\n",
       "5306         6576  Multigenic/multifactorial     1\n",
       "\n",
       "[5307 rows x 3 columns]"
      ]
     },
     "execution_count": 8,
     "metadata": {},
     "output_type": "execute_result"
    }
   ],
   "source": [
    "Disorder_Age.groupby([\"Disorder_id\", \"Inheritance_type\"]).size().reset_index(name=\"Time\")"
   ]
  },
  {
   "cell_type": "markdown",
   "metadata": {},
   "source": [
    "# Age onset and of death per disease \n",
    "### ALS as example"
   ]
  },
  {
   "cell_type": "code",
   "execution_count": 9,
   "metadata": {},
   "outputs": [
    {
     "data": {
      "text/html": [
       "<div>\n",
       "<style scoped>\n",
       "    .dataframe tbody tr th:only-of-type {\n",
       "        vertical-align: middle;\n",
       "    }\n",
       "\n",
       "    .dataframe tbody tr th {\n",
       "        vertical-align: top;\n",
       "    }\n",
       "\n",
       "    .dataframe thead th {\n",
       "        text-align: right;\n",
       "    }\n",
       "</style>\n",
       "<table border=\"1\" class=\"dataframe\">\n",
       "  <thead>\n",
       "    <tr style=\"text-align: right;\">\n",
       "      <th></th>\n",
       "      <th>Disorder_id</th>\n",
       "      <th>Average_age_death</th>\n",
       "      <th>Time</th>\n",
       "    </tr>\n",
       "  </thead>\n",
       "  <tbody>\n",
       "    <tr>\n",
       "      <th>0</th>\n",
       "      <td>2</td>\n",
       "      <td>any age</td>\n",
       "      <td>1</td>\n",
       "    </tr>\n",
       "    <tr>\n",
       "      <th>1</th>\n",
       "      <td>3</td>\n",
       "      <td>No data available</td>\n",
       "      <td>1</td>\n",
       "    </tr>\n",
       "    <tr>\n",
       "      <th>2</th>\n",
       "      <td>4</td>\n",
       "      <td>any age</td>\n",
       "      <td>1</td>\n",
       "    </tr>\n",
       "    <tr>\n",
       "      <th>3</th>\n",
       "      <td>5</td>\n",
       "      <td>No data available</td>\n",
       "      <td>1</td>\n",
       "    </tr>\n",
       "    <tr>\n",
       "      <th>4</th>\n",
       "      <td>6</td>\n",
       "      <td>No data available</td>\n",
       "      <td>1</td>\n",
       "    </tr>\n",
       "    <tr>\n",
       "      <th>...</th>\n",
       "      <td>...</td>\n",
       "      <td>...</td>\n",
       "      <td>...</td>\n",
       "    </tr>\n",
       "    <tr>\n",
       "      <th>3626</th>\n",
       "      <td>6566</td>\n",
       "      <td>normal life expectancy</td>\n",
       "      <td>1</td>\n",
       "    </tr>\n",
       "    <tr>\n",
       "      <th>3627</th>\n",
       "      <td>6569</td>\n",
       "      <td>normal life expectancy</td>\n",
       "      <td>1</td>\n",
       "    </tr>\n",
       "    <tr>\n",
       "      <th>3628</th>\n",
       "      <td>6570</td>\n",
       "      <td>early childhood</td>\n",
       "      <td>1</td>\n",
       "    </tr>\n",
       "    <tr>\n",
       "      <th>3629</th>\n",
       "      <td>6574</td>\n",
       "      <td>No data available</td>\n",
       "      <td>1</td>\n",
       "    </tr>\n",
       "    <tr>\n",
       "      <th>3630</th>\n",
       "      <td>6577</td>\n",
       "      <td>infantile</td>\n",
       "      <td>1</td>\n",
       "    </tr>\n",
       "  </tbody>\n",
       "</table>\n",
       "<p>3631 rows × 3 columns</p>\n",
       "</div>"
      ],
      "text/plain": [
       "      Disorder_id       Average_age_death  Time\n",
       "0               2                 any age     1\n",
       "1               3       No data available     1\n",
       "2               4                 any age     1\n",
       "3               5       No data available     1\n",
       "4               6       No data available     1\n",
       "...           ...                     ...   ...\n",
       "3626         6566  normal life expectancy     1\n",
       "3627         6569  normal life expectancy     1\n",
       "3628         6570         early childhood     1\n",
       "3629         6574       No data available     1\n",
       "3630         6577               infantile     1\n",
       "\n",
       "[3631 rows x 3 columns]"
      ]
     },
     "execution_count": 9,
     "metadata": {},
     "output_type": "execute_result"
    }
   ],
   "source": [
    "Disorder_Age.groupby([\"Disorder_id\", \"Average_age_death\"]).size().reset_index(name=\"Time\")"
   ]
  },
  {
   "cell_type": "markdown",
   "metadata": {},
   "source": [
    "!! PROBLEM !! (but not a big deal) : one ID can have multiple Average_age_onset"
   ]
  },
  {
   "cell_type": "code",
   "execution_count": 10,
   "metadata": {},
   "outputs": [
    {
     "data": {
      "text/html": [
       "<div>\n",
       "<style scoped>\n",
       "    .dataframe tbody tr th:only-of-type {\n",
       "        vertical-align: middle;\n",
       "    }\n",
       "\n",
       "    .dataframe tbody tr th {\n",
       "        vertical-align: top;\n",
       "    }\n",
       "\n",
       "    .dataframe thead th {\n",
       "        text-align: right;\n",
       "    }\n",
       "</style>\n",
       "<table border=\"1\" class=\"dataframe\">\n",
       "  <thead>\n",
       "    <tr style=\"text-align: right;\">\n",
       "      <th></th>\n",
       "      <th>Disorder_id</th>\n",
       "      <th>Average_age_onset</th>\n",
       "      <th>Time</th>\n",
       "    </tr>\n",
       "  </thead>\n",
       "  <tbody>\n",
       "    <tr>\n",
       "      <th>0</th>\n",
       "      <td>1</td>\n",
       "      <td>Infancy</td>\n",
       "      <td>1</td>\n",
       "    </tr>\n",
       "    <tr>\n",
       "      <th>1</th>\n",
       "      <td>1</td>\n",
       "      <td>Neonatal</td>\n",
       "      <td>1</td>\n",
       "    </tr>\n",
       "    <tr>\n",
       "      <th>2</th>\n",
       "      <td>2</td>\n",
       "      <td>All ages</td>\n",
       "      <td>1</td>\n",
       "    </tr>\n",
       "    <tr>\n",
       "      <th>3</th>\n",
       "      <td>3</td>\n",
       "      <td>Childhood</td>\n",
       "      <td>1</td>\n",
       "    </tr>\n",
       "    <tr>\n",
       "      <th>4</th>\n",
       "      <td>3</td>\n",
       "      <td>Infancy</td>\n",
       "      <td>1</td>\n",
       "    </tr>\n",
       "    <tr>\n",
       "      <th>...</th>\n",
       "      <td>...</td>\n",
       "      <td>...</td>\n",
       "      <td>...</td>\n",
       "    </tr>\n",
       "    <tr>\n",
       "      <th>10277</th>\n",
       "      <td>6575</td>\n",
       "      <td>Neonatal</td>\n",
       "      <td>1</td>\n",
       "    </tr>\n",
       "    <tr>\n",
       "      <th>10278</th>\n",
       "      <td>6576</td>\n",
       "      <td>Infancy</td>\n",
       "      <td>1</td>\n",
       "    </tr>\n",
       "    <tr>\n",
       "      <th>10279</th>\n",
       "      <td>6576</td>\n",
       "      <td>Neonatal</td>\n",
       "      <td>1</td>\n",
       "    </tr>\n",
       "    <tr>\n",
       "      <th>10280</th>\n",
       "      <td>6577</td>\n",
       "      <td>Infancy</td>\n",
       "      <td>1</td>\n",
       "    </tr>\n",
       "    <tr>\n",
       "      <th>10281</th>\n",
       "      <td>6577</td>\n",
       "      <td>Neonatal</td>\n",
       "      <td>1</td>\n",
       "    </tr>\n",
       "  </tbody>\n",
       "</table>\n",
       "<p>10282 rows × 3 columns</p>\n",
       "</div>"
      ],
      "text/plain": [
       "       Disorder_id Average_age_onset  Time\n",
       "0                1           Infancy     1\n",
       "1                1          Neonatal     1\n",
       "2                2          All ages     1\n",
       "3                3         Childhood     1\n",
       "4                3           Infancy     1\n",
       "...            ...               ...   ...\n",
       "10277         6575          Neonatal     1\n",
       "10278         6576           Infancy     1\n",
       "10279         6576          Neonatal     1\n",
       "10280         6577           Infancy     1\n",
       "10281         6577          Neonatal     1\n",
       "\n",
       "[10282 rows x 3 columns]"
      ]
     },
     "execution_count": 10,
     "metadata": {},
     "output_type": "execute_result"
    }
   ],
   "source": [
    "(Age_avg_onset.groupby([\"Disorder_id\", \"Average_age_onset\"]).size().reset_index(name=\"Time\"))"
   ]
  },
  {
   "cell_type": "markdown",
   "metadata": {},
   "source": [
    "Let's merge everything in a table and let's make it clear removing IDs. All the info we want are in \"df\". We just need to filter it with the disease ID"
   ]
  },
  {
   "cell_type": "code",
   "execution_count": 11,
   "metadata": {},
   "outputs": [
    {
     "data": {
      "text/html": [
       "<div>\n",
       "<style scoped>\n",
       "    .dataframe tbody tr th:only-of-type {\n",
       "        vertical-align: middle;\n",
       "    }\n",
       "\n",
       "    .dataframe tbody tr th {\n",
       "        vertical-align: top;\n",
       "    }\n",
       "\n",
       "    .dataframe thead th {\n",
       "        text-align: right;\n",
       "    }\n",
       "</style>\n",
       "<table border=\"1\" class=\"dataframe\">\n",
       "  <thead>\n",
       "    <tr style=\"text-align: right;\">\n",
       "      <th></th>\n",
       "      <th>Disorder_id_2</th>\n",
       "      <th>Disorder_name</th>\n",
       "      <th>Disorder_type</th>\n",
       "      <th>Disorder_group</th>\n",
       "      <th>Inheritance_type</th>\n",
       "      <th>Average_age_onset</th>\n",
       "      <th>Average_age_death</th>\n",
       "    </tr>\n",
       "  </thead>\n",
       "  <tbody>\n",
       "    <tr>\n",
       "      <th>0</th>\n",
       "      <td>17601</td>\n",
       "      <td>Multiple epiphyseal dysplasia, Al-Gazali type</td>\n",
       "      <td>Disease</td>\n",
       "      <td>Disorder</td>\n",
       "      <td>Autosomal recessive</td>\n",
       "      <td>Infancy</td>\n",
       "      <td>NaN</td>\n",
       "    </tr>\n",
       "    <tr>\n",
       "      <th>1</th>\n",
       "      <td>17601</td>\n",
       "      <td>Multiple epiphyseal dysplasia, Al-Gazali type</td>\n",
       "      <td>Disease</td>\n",
       "      <td>Disorder</td>\n",
       "      <td>Autosomal recessive</td>\n",
       "      <td>Neonatal</td>\n",
       "      <td>NaN</td>\n",
       "    </tr>\n",
       "    <tr>\n",
       "      <th>2</th>\n",
       "      <td>2</td>\n",
       "      <td>Alexander disease</td>\n",
       "      <td>Disease</td>\n",
       "      <td>Disorder</td>\n",
       "      <td>Autosomal dominant</td>\n",
       "      <td>All ages</td>\n",
       "      <td>any age</td>\n",
       "    </tr>\n",
       "    <tr>\n",
       "      <th>3</th>\n",
       "      <td>17603</td>\n",
       "      <td>Multiple epiphyseal dysplasia, with miniepiphyses</td>\n",
       "      <td>Disease</td>\n",
       "      <td>Disorder</td>\n",
       "      <td>NaN</td>\n",
       "      <td>Childhood</td>\n",
       "      <td>No data available</td>\n",
       "    </tr>\n",
       "    <tr>\n",
       "      <th>4</th>\n",
       "      <td>17603</td>\n",
       "      <td>Multiple epiphyseal dysplasia, with miniepiphyses</td>\n",
       "      <td>Disease</td>\n",
       "      <td>Disorder</td>\n",
       "      <td>NaN</td>\n",
       "      <td>Infancy</td>\n",
       "      <td>No data available</td>\n",
       "    </tr>\n",
       "  </tbody>\n",
       "</table>\n",
       "</div>"
      ],
      "text/plain": [
       "   Disorder_id_2                                      Disorder_name  \\\n",
       "0          17601      Multiple epiphyseal dysplasia, Al-Gazali type   \n",
       "1          17601      Multiple epiphyseal dysplasia, Al-Gazali type   \n",
       "2              2                                  Alexander disease   \n",
       "3          17603  Multiple epiphyseal dysplasia, with miniepiphyses   \n",
       "4          17603  Multiple epiphyseal dysplasia, with miniepiphyses   \n",
       "\n",
       "  Disorder_type Disorder_group     Inheritance_type Average_age_onset  \\\n",
       "0       Disease       Disorder  Autosomal recessive           Infancy   \n",
       "1       Disease       Disorder  Autosomal recessive          Neonatal   \n",
       "2       Disease       Disorder   Autosomal dominant          All ages   \n",
       "3       Disease       Disorder                  NaN         Childhood   \n",
       "4       Disease       Disorder                  NaN           Infancy   \n",
       "\n",
       "   Average_age_death  \n",
       "0                NaN  \n",
       "1                NaN  \n",
       "2            any age  \n",
       "3  No data available  \n",
       "4  No data available  "
      ]
     },
     "execution_count": 11,
     "metadata": {},
     "output_type": "execute_result"
    }
   ],
   "source": [
    "df = Disorder_Age.merge(Age_avg_onset[['Disorder_id', 'Average_age_onset']], on='Disorder_id', how='left')\n",
    "df = df[['Disorder_id_2', 'Disorder_name', 'Disorder_type', 'Disorder_group','Inheritance_type',\n",
    "         'Average_age_onset', 'Average_age_death']]\n",
    "\n",
    "df.head()"
   ]
  },
  {
   "cell_type": "markdown",
   "metadata": {},
   "source": [
    "Now we just need to filter for the disease to return the info related to it"
   ]
  },
  {
   "cell_type": "code",
   "execution_count": 12,
   "metadata": {},
   "outputs": [
    {
     "data": {
      "text/html": [
       "<div>\n",
       "<style scoped>\n",
       "    .dataframe tbody tr th:only-of-type {\n",
       "        vertical-align: middle;\n",
       "    }\n",
       "\n",
       "    .dataframe tbody tr th {\n",
       "        vertical-align: top;\n",
       "    }\n",
       "\n",
       "    .dataframe thead th {\n",
       "        text-align: right;\n",
       "    }\n",
       "</style>\n",
       "<table border=\"1\" class=\"dataframe\">\n",
       "  <thead>\n",
       "    <tr style=\"text-align: right;\">\n",
       "      <th></th>\n",
       "      <th>Disorder_id_2</th>\n",
       "      <th>Disorder_name</th>\n",
       "      <th>Disorder_type</th>\n",
       "      <th>Disorder_group</th>\n",
       "      <th>Inheritance_type</th>\n",
       "      <th>Average_age_onset</th>\n",
       "      <th>Average_age_death</th>\n",
       "    </tr>\n",
       "  </thead>\n",
       "  <tbody>\n",
       "    <tr>\n",
       "      <th>183</th>\n",
       "      <td>106</td>\n",
       "      <td>Amyotrophic lateral sclerosis</td>\n",
       "      <td>Disease</td>\n",
       "      <td>Disorder</td>\n",
       "      <td>Autosomal dominant</td>\n",
       "      <td>Adult</td>\n",
       "      <td>adult</td>\n",
       "    </tr>\n",
       "  </tbody>\n",
       "</table>\n",
       "</div>"
      ],
      "text/plain": [
       "     Disorder_id_2                  Disorder_name Disorder_type  \\\n",
       "183            106  Amyotrophic lateral sclerosis       Disease   \n",
       "\n",
       "    Disorder_group    Inheritance_type Average_age_onset Average_age_death  \n",
       "183       Disorder  Autosomal dominant             Adult             adult  "
      ]
     },
     "execution_count": 12,
     "metadata": {},
     "output_type": "execute_result"
    }
   ],
   "source": [
    "df[df['Disorder_id_2'] == 106]"
   ]
  },
  {
   "cell_type": "code",
   "execution_count": 13,
   "metadata": {},
   "outputs": [],
   "source": [
    "df.to_excel(\"df_age_disorder.xlsx\")  "
   ]
  },
  {
   "cell_type": "markdown",
   "metadata": {},
   "source": [
    "The only problem is that if a disease has multiple Average_age_onset there are multiple entries.\n",
    "\n",
    "Possible solution : We can take the \"lowest\"  Average_age_onset"
   ]
  },
  {
   "cell_type": "markdown",
   "metadata": {},
   "source": [
    "## Inheritance type of the diseases in the dataset "
   ]
  },
  {
   "cell_type": "code",
   "execution_count": 14,
   "metadata": {},
   "outputs": [
    {
     "data": {
      "text/html": [
       "<div>\n",
       "<style scoped>\n",
       "    .dataframe tbody tr th:only-of-type {\n",
       "        vertical-align: middle;\n",
       "    }\n",
       "\n",
       "    .dataframe tbody tr th {\n",
       "        vertical-align: top;\n",
       "    }\n",
       "\n",
       "    .dataframe thead th {\n",
       "        text-align: right;\n",
       "    }\n",
       "</style>\n",
       "<table border=\"1\" class=\"dataframe\">\n",
       "  <thead>\n",
       "    <tr style=\"text-align: right;\">\n",
       "      <th></th>\n",
       "      <th>Inheritance_type</th>\n",
       "      <th>Count</th>\n",
       "    </tr>\n",
       "  </thead>\n",
       "  <tbody>\n",
       "    <tr>\n",
       "      <th>0</th>\n",
       "      <td>Autosomal recessive</td>\n",
       "      <td>1890</td>\n",
       "    </tr>\n",
       "    <tr>\n",
       "      <th>1</th>\n",
       "      <td>Autosomal dominant</td>\n",
       "      <td>1660</td>\n",
       "    </tr>\n",
       "    <tr>\n",
       "      <th>2</th>\n",
       "      <td>Not applicable</td>\n",
       "      <td>981</td>\n",
       "    </tr>\n",
       "    <tr>\n",
       "      <th>3</th>\n",
       "      <td>Unknown</td>\n",
       "      <td>252</td>\n",
       "    </tr>\n",
       "    <tr>\n",
       "      <th>4</th>\n",
       "      <td>X-linked recessive</td>\n",
       "      <td>252</td>\n",
       "    </tr>\n",
       "    <tr>\n",
       "      <th>5</th>\n",
       "      <td>Multigenic/multifactorial</td>\n",
       "      <td>171</td>\n",
       "    </tr>\n",
       "    <tr>\n",
       "      <th>6</th>\n",
       "      <td>X-linked dominant</td>\n",
       "      <td>59</td>\n",
       "    </tr>\n",
       "    <tr>\n",
       "      <th>7</th>\n",
       "      <td>Mitochondrial inheritance</td>\n",
       "      <td>20</td>\n",
       "    </tr>\n",
       "    <tr>\n",
       "      <th>8</th>\n",
       "      <td>No data available</td>\n",
       "      <td>17</td>\n",
       "    </tr>\n",
       "    <tr>\n",
       "      <th>9</th>\n",
       "      <td>Semi-dominant</td>\n",
       "      <td>4</td>\n",
       "    </tr>\n",
       "    <tr>\n",
       "      <th>10</th>\n",
       "      <td>Y-linked</td>\n",
       "      <td>1</td>\n",
       "    </tr>\n",
       "  </tbody>\n",
       "</table>\n",
       "</div>"
      ],
      "text/plain": [
       "             Inheritance_type  Count\n",
       "0         Autosomal recessive   1890\n",
       "1          Autosomal dominant   1660\n",
       "2              Not applicable    981\n",
       "3                     Unknown    252\n",
       "4          X-linked recessive    252\n",
       "5   Multigenic/multifactorial    171\n",
       "6           X-linked dominant     59\n",
       "7   Mitochondrial inheritance     20\n",
       "8           No data available     17\n",
       "9               Semi-dominant      4\n",
       "10                   Y-linked      1"
      ]
     },
     "execution_count": 14,
     "metadata": {},
     "output_type": "execute_result"
    }
   ],
   "source": [
    "Inheritance_df = pd.DataFrame(Disorder_Age.Inheritance_type.value_counts())\n",
    "Inheritance_df = Inheritance_df.reset_index()\n",
    "Inheritance_df = Inheritance_df.rename(columns = {'index':'Inheritance_type','Inheritance_type':'Count' })\n",
    "Inheritance_df"
   ]
  },
  {
   "cell_type": "code",
   "execution_count": 15,
   "metadata": {},
   "outputs": [
    {
     "data": {
      "image/png": "[encoded data removed]",
      "text/plain": [
       "<Figure size 864x792 with 1 Axes>"
      ]
     },
     "metadata": {
      "needs_background": "light"
     },
     "output_type": "display_data"
    }
   ],
   "source": [
    "# importing the required library\n",
    "import seaborn as sns\n",
    "import matplotlib.pyplot as plt\n",
    "import numpy as np\n",
    "\n",
    "# a4_dims = (11.7, 8.27)\n",
    "# fig, ax = pyplot.subplots(figsize=a4_dims)    \n",
    "plt.figure(figsize=(12,11))\n",
    "\n",
    "sns.set_style('whitegrid')\n",
    "\n",
    "j = sns.barplot(x = \"Count\", y = \"Inheritance_type\", data = Inheritance_df, palette = 'hls')\n",
    "\n",
    "for p in j.patches:\n",
    "    width = p.get_width()\n",
    "    plt.text(80+p.get_width(), p.get_y()+0.55*p.get_height(),\n",
    "             '{:1.2f}'.format(width),\n",
    "             ha='center', va='center')\n",
    "    \n",
    "plt.xlabel(\"Count of Rare Diseases\", size=14)\n",
    "plt.ylabel(\"Inheritance Type\", size=14) \n",
    "\n",
    "plt.show()"
   ]
  },
  {
   "cell_type": "markdown",
   "metadata": {},
   "source": [
    "# Average age on set of rare diseases in the data"
   ]
  },
  {
   "cell_type": "code",
   "execution_count": 16,
   "metadata": {},
   "outputs": [
    {
     "data": {
      "text/html": [
       "<div>\n",
       "<style scoped>\n",
       "    .dataframe tbody tr th:only-of-type {\n",
       "        vertical-align: middle;\n",
       "    }\n",
       "\n",
       "    .dataframe tbody tr th {\n",
       "        vertical-align: top;\n",
       "    }\n",
       "\n",
       "    .dataframe thead th {\n",
       "        text-align: right;\n",
       "    }\n",
       "</style>\n",
       "<table border=\"1\" class=\"dataframe\">\n",
       "  <thead>\n",
       "    <tr style=\"text-align: right;\">\n",
       "      <th></th>\n",
       "      <th>Average_age_onset</th>\n",
       "      <th>Count</th>\n",
       "    </tr>\n",
       "  </thead>\n",
       "  <tbody>\n",
       "    <tr>\n",
       "      <th>0</th>\n",
       "      <td>Neonatal</td>\n",
       "      <td>2855</td>\n",
       "    </tr>\n",
       "    <tr>\n",
       "      <th>1</th>\n",
       "      <td>Infancy</td>\n",
       "      <td>2305</td>\n",
       "    </tr>\n",
       "    <tr>\n",
       "      <th>2</th>\n",
       "      <td>Childhood</td>\n",
       "      <td>1450</td>\n",
       "    </tr>\n",
       "    <tr>\n",
       "      <th>3</th>\n",
       "      <td>Adult</td>\n",
       "      <td>1267</td>\n",
       "    </tr>\n",
       "    <tr>\n",
       "      <th>4</th>\n",
       "      <td>All ages</td>\n",
       "      <td>832</td>\n",
       "    </tr>\n",
       "    <tr>\n",
       "      <th>5</th>\n",
       "      <td>Adolescent</td>\n",
       "      <td>667</td>\n",
       "    </tr>\n",
       "    <tr>\n",
       "      <th>6</th>\n",
       "      <td>Antenatal</td>\n",
       "      <td>621</td>\n",
       "    </tr>\n",
       "    <tr>\n",
       "      <th>7</th>\n",
       "      <td>Elderly</td>\n",
       "      <td>245</td>\n",
       "    </tr>\n",
       "    <tr>\n",
       "      <th>8</th>\n",
       "      <td>No data available</td>\n",
       "      <td>40</td>\n",
       "    </tr>\n",
       "  </tbody>\n",
       "</table>\n",
       "</div>"
      ],
      "text/plain": [
       "   Average_age_onset  Count\n",
       "0           Neonatal   2855\n",
       "1            Infancy   2305\n",
       "2          Childhood   1450\n",
       "3              Adult   1267\n",
       "4           All ages    832\n",
       "5         Adolescent    667\n",
       "6          Antenatal    621\n",
       "7            Elderly    245\n",
       "8  No data available     40"
      ]
     },
     "execution_count": 16,
     "metadata": {},
     "output_type": "execute_result"
    }
   ],
   "source": [
    "Age_onset = pd.DataFrame(Age_avg_onset.Average_age_onset.value_counts())\n",
    "Age_onset = Age_onset.reset_index()\n",
    "Age_onset = Age_onset.rename(columns = {'index':'Average_age_onset','Average_age_onset':'Count' })\n",
    "Age_onset"
   ]
  },
  {
   "cell_type": "code",
   "execution_count": 17,
   "metadata": {},
   "outputs": [
    {
     "data": {
      "image/png": "[encoded data removed]",
      "text/plain": [
       "<Figure size 864x792 with 1 Axes>"
      ]
     },
     "metadata": {},
     "output_type": "display_data"
    }
   ],
   "source": [
    "# importing the required library\n",
    "import seaborn as sns\n",
    "import matplotlib.pyplot as plt\n",
    "import numpy as np\n",
    "\n",
    "# a4_dims = (11.7, 8.27)\n",
    "# fig, ax = pyplot.subplots(figsize=a4_dims)    \n",
    "plt.figure(figsize=(12,11))\n",
    "\n",
    "sns.set_style('ticks')\n",
    "\n",
    "f = sns.barplot(x = \"Count\", y = \"Average_age_onset\", data = Age_onset, palette = 'coolwarm')\n",
    "\n",
    "for p in f.patches:\n",
    "    width = p.get_width()\n",
    "    plt.text(100+p.get_width(), p.get_y()+0.55*p.get_height(),\n",
    "             '{:1.2f}'.format(width),\n",
    "             ha='center', va='center')\n",
    "\n",
    "plt.xlabel(\"Count of Rare Diseases diagnosticated\", size=14)\n",
    "plt.ylabel(\"Age of Onset\", size=14) \n",
    "\n",
    "plt.show()"
   ]
  },
  {
   "cell_type": "code",
   "execution_count": null,
   "metadata": {},
   "outputs": [],
   "source": []
  },
  {
   "cell_type": "code",
   "execution_count": 18,
   "metadata": {},
   "outputs": [
    {
     "data": {
      "text/html": [
       "<div>\n",
       "<style scoped>\n",
       "    .dataframe tbody tr th:only-of-type {\n",
       "        vertical-align: middle;\n",
       "    }\n",
       "\n",
       "    .dataframe tbody tr th {\n",
       "        vertical-align: top;\n",
       "    }\n",
       "\n",
       "    .dataframe thead th {\n",
       "        text-align: right;\n",
       "    }\n",
       "</style>\n",
       "<table border=\"1\" class=\"dataframe\">\n",
       "  <thead>\n",
       "    <tr style=\"text-align: right;\">\n",
       "      <th></th>\n",
       "      <th>Average_age_death</th>\n",
       "      <th>Count</th>\n",
       "    </tr>\n",
       "  </thead>\n",
       "  <tbody>\n",
       "    <tr>\n",
       "      <th>0</th>\n",
       "      <td>No data available</td>\n",
       "      <td>1207</td>\n",
       "    </tr>\n",
       "    <tr>\n",
       "      <th>1</th>\n",
       "      <td>normal life expectancy</td>\n",
       "      <td>1026</td>\n",
       "    </tr>\n",
       "    <tr>\n",
       "      <th>2</th>\n",
       "      <td>any age</td>\n",
       "      <td>447</td>\n",
       "    </tr>\n",
       "    <tr>\n",
       "      <th>3</th>\n",
       "      <td>adult</td>\n",
       "      <td>270</td>\n",
       "    </tr>\n",
       "    <tr>\n",
       "      <th>4</th>\n",
       "      <td>early childhood</td>\n",
       "      <td>235</td>\n",
       "    </tr>\n",
       "    <tr>\n",
       "      <th>5</th>\n",
       "      <td>infantile</td>\n",
       "      <td>209</td>\n",
       "    </tr>\n",
       "    <tr>\n",
       "      <th>6</th>\n",
       "      <td>adolescent</td>\n",
       "      <td>97</td>\n",
       "    </tr>\n",
       "    <tr>\n",
       "      <th>7</th>\n",
       "      <td>elderly</td>\n",
       "      <td>64</td>\n",
       "    </tr>\n",
       "    <tr>\n",
       "      <th>8</th>\n",
       "      <td>embryofetal</td>\n",
       "      <td>21</td>\n",
       "    </tr>\n",
       "    <tr>\n",
       "      <th>9</th>\n",
       "      <td>late childhood</td>\n",
       "      <td>20</td>\n",
       "    </tr>\n",
       "    <tr>\n",
       "      <th>10</th>\n",
       "      <td>young Adult</td>\n",
       "      <td>18</td>\n",
       "    </tr>\n",
       "    <tr>\n",
       "      <th>11</th>\n",
       "      <td>stillbirth</td>\n",
       "      <td>13</td>\n",
       "    </tr>\n",
       "    <tr>\n",
       "      <th>12</th>\n",
       "      <td>Not yet documented</td>\n",
       "      <td>4</td>\n",
       "    </tr>\n",
       "  </tbody>\n",
       "</table>\n",
       "</div>"
      ],
      "text/plain": [
       "         Average_age_death  Count\n",
       "0        No data available   1207\n",
       "1   normal life expectancy   1026\n",
       "2                  any age    447\n",
       "3                    adult    270\n",
       "4          early childhood    235\n",
       "5                infantile    209\n",
       "6               adolescent     97\n",
       "7                  elderly     64\n",
       "8              embryofetal     21\n",
       "9           late childhood     20\n",
       "10             young Adult     18\n",
       "11              stillbirth     13\n",
       "12      Not yet documented      4"
      ]
     },
     "execution_count": 18,
     "metadata": {},
     "output_type": "execute_result"
    }
   ],
   "source": [
    "Age_death = pd.DataFrame(Disorder_Age.Average_age_death.value_counts())\n",
    "Age_death = Age_death.reset_index()\n",
    "Age_death = Age_death.rename(columns = {'index':'Average_age_death','Average_age_death':'Count' })\n",
    "Age_death"
   ]
  },
  {
   "cell_type": "code",
   "execution_count": 19,
   "metadata": {},
   "outputs": [
    {
     "data": {
      "image/png": "[encoded data removed]",
      "text/plain": [
       "<Figure size 864x792 with 1 Axes>"
      ]
     },
     "metadata": {},
     "output_type": "display_data"
    }
   ],
   "source": [
    "# importing the required library\n",
    "import seaborn as sns\n",
    "import matplotlib.pyplot as plt\n",
    "import numpy as np\n",
    "\n",
    "# a4_dims = (11.7, 8.27)\n",
    "# fig, ax = pyplot.subplots(figsize=a4_dims)    \n",
    "plt.figure(figsize=(12,11))\n",
    "\n",
    "sns.set_style('darkgrid')\n",
    "\n",
    "k = sns.barplot(x = \"Count\", y = \"Average_age_death\", data = Age_death, palette = 'hls')\n",
    "\n",
    "for p in k.patches:\n",
    "    width = p.get_width()\n",
    "    plt.text(40+p.get_width(), p.get_y()+0.55*p.get_height(),\n",
    "             '{:1.2f}'.format(width),\n",
    "             ha='center', va='center')\n",
    "\n",
    "plt.xlabel(\"Count of Rare Diseases diagnosticated\", size=14)\n",
    "plt.ylabel(\"Age of Death\", size=14) \n",
    "\n",
    "plt.show()"
   ]
  },
  {
   "cell_type": "code",
   "execution_count": null,
   "metadata": {},
   "outputs": [],
   "source": []
  }
 ],
 "metadata": {
  "kernelspec": {
   "display_name": "Python 3",
   "language": "python",
   "name": "python3"
  },
  "language_info": {
   "codemirror_mode": {
    "name": "ipython",
    "version": 3
   },
   "file_extension": ".py",
   "mimetype": "text/x-python",
   "name": "python",
   "nbconvert_exporter": "python",
   "pygments_lexer": "ipython3",
   "version": "3.8.5"
  }
 },
 "nbformat": 4,
 "nbformat_minor": 4
}
